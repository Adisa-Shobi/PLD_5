{
  "nbformat": 4,
  "nbformat_minor": 0,
  "metadata": {
    "colab": {
      "provenance": [],
      "include_colab_link": true
    },
    "kernelspec": {
      "name": "python3",
      "display_name": "Python 3"
    },
    "language_info": {
      "name": "python"
    }
  },
  "cells": [
    {
      "cell_type": "markdown",
      "metadata": {
        "id": "view-in-github",
        "colab_type": "text"
      },
      "source": [
        "<a href=\"https://colab.research.google.com/github/Adisa-Shobi/PLD_5/blob/main/Calculus_Assignment_PLD_5.ipynb\" target=\"_parent\"><img src=\"https://colab.research.google.com/assets/colab-badge.svg\" alt=\"Open In Colab\"/></a>"
      ]
    },
    {
      "cell_type": "markdown",
      "source": [
        "# Task 1: Write a dynamic function to find the derivative of any function f(x)"
      ],
      "metadata": {
        "id": "ujuLMxSvoXbg"
      }
    },
    {
      "cell_type": "code",
      "source": [
        "#TO DO: Create a function that does a derivative for any function\n",
        "from scipy.misc import derivative\n",
        "\n",
        "def dy_dx(func, x):\n",
        "  #find the derivative of f(x)\n",
        "  return derivative(func=func, x0=x)"
      ],
      "metadata": {
        "id": "wGCnpzs9M4Fd"
      },
      "execution_count": null,
      "outputs": []
    },
    {
      "cell_type": "markdown",
      "source": [
        "# Task 2: Test the derivative function written with an equation of your choice\n",
        "*NB: Must have atleast 2 minimas and atleast 2 maximas*"
      ],
      "metadata": {
        "id": "tRiw95LZoeVq"
      }
    },
    {
      "cell_type": "markdown",
      "source": [
        "Sample function\n",
        "\n",
        "$$\n",
        "f(x) = x^4 - 4x^3 + x^2 + 4x\n",
        "$$\n",
        "\n",
        "\n",
        "$$\n",
        "f'(x) = 4x^3 - 12x^2 + 2x + 4\n",
        "$$"
      ],
      "metadata": {
        "id": "CXwfPNNOi4De"
      }
    },
    {
      "cell_type": "code",
      "source": [
        "def f(x):\n",
        "    return x**4 - 4*x**3 + x**2 + 4*x # x\n",
        "\n",
        "dy_dx(f, 1) # The derivative of f(x) at x = 1"
      ],
      "metadata": {
        "id": "SLFq1uf4NMy_",
        "colab": {
          "base_uri": "https://localhost:8080/"
        },
        "outputId": "9e78652c-0279-4fd7-de92-d38c56170a25"
      },
      "execution_count": null,
      "outputs": [
        {
          "output_type": "stream",
          "name": "stderr",
          "text": [
            "<ipython-input-2-87d3009e8d37>:6: DeprecationWarning: scipy.misc.derivative is deprecated in SciPy v1.10.0; and will be completely removed in SciPy v1.12.0. You may consider using findiff: https://github.com/maroba/findiff or numdifftools: https://github.com/pbrod/numdifftools\n",
            "  return derivative(func=func, x0=x)\n"
          ]
        },
        {
          "output_type": "execute_result",
          "data": {
            "text/plain": [
              "-2.0"
            ]
          },
          "metadata": {},
          "execution_count": 3
        }
      ]
    },
    {
      "cell_type": "markdown",
      "source": [
        "#Task 3: Plot a graph of the Equation must have 4 points (2 minimas and 2 maximas)"
      ],
      "metadata": {
        "id": "fvDN-PJQopAQ"
      }
    },
    {
      "cell_type": "code",
      "source": [
        "import matplot.pyplot as plt\n",
        "\n",
        "#Create a visualization of the quadratic/algebraic equation\n"
      ],
      "metadata": {
        "id": "JtB6-187NV_R"
      },
      "execution_count": null,
      "outputs": []
    },
    {
      "cell_type": "code",
      "source": [
        "import matplotlib.pyplot as plt\n",
        "import numpy as np\n",
        "\n",
        "#Create a visualization of the quadratic/algebraic equation\n",
        "\n",
        "#def dy_dx(func, x):\n",
        "#  find the derivative of f(x)\n",
        "\n",
        "#  return derivative(func=func, x0=x)\n",
        "\n",
        "def f(x):\n",
        "    return x**4 - 4*x**3 + x**2 + 4*x # x\n",
        "# dy_dx(f,1)\n",
        "\n",
        "x = np.linspace(-2, 4, 100)\n",
        "y = f(x)\n",
        "\n",
        "# plotting the function\n",
        "plt.plot(x, y, label='f(x) = x**4 - 4*x**3 + x**2 + 4*x', color= 'red')\n",
        "\n",
        "# labeling the axes\n",
        "plt.ylabel('f(x)')\n",
        "plt.xlabel('x')\n",
        "plt.title('x**4−4x**3+x**2+4x')\n",
        "\n",
        "# setting x and y axis limits\n",
        "plt.ylim(-10, 50)\n",
        "plt.xlim(-2, 4)\n",
        "\n",
        "# grid and ledend\n",
        "plt.grid(True)\n",
        "plt.axhline(0, color='black',linewidth=1)\n",
        "plt.axvline(0, color='black',linewidth=1)\n",
        "plt.legend()\n",
        "\n",
        "plt.show()\n",
        "\n"
      ],
      "metadata": {
        "colab": {
          "base_uri": "https://localhost:8080/",
          "height": 472
        },
        "outputId": "b7270932-61fc-43aa-c736-7839b93d254a",
        "id": "Afpi7ivBxdGI"
      },
      "execution_count": null,
      "outputs": [
        {
          "output_type": "display_data",
          "data": {
            "text/plain": [
              "<Figure size 640x480 with 1 Axes>"
            ],
            "image/png": "[encoded data removed]"
          },
          "metadata": {}
        }
      ]
    },
    {
      "cell_type": "markdown",
      "source": [
        "# Task 4: Create separate array of Minimas and maximas"
      ],
      "metadata": {
        "id": "bwZIpdMYouWY"
      }
    },
    {
      "cell_type": "code",
      "source": [
        "arr_minimas = []\n",
        "arr_maximas = []\n",
        "from scipy.misc import derivative\n",
        "\n",
        "# Define the function\n",
        "def f(x):\n",
        "    return x**4 - 4*x**3 + x**2 + 4*x\n",
        "\n",
        "# Derivative function\n",
        "def f_prime(x):\n",
        "    return 4*x**3 - 12*x**2 + 2*x + 4\n",
        "\n",
        "# Second derivative function\n",
        "def f_double_prime(x):\n",
        "    return 12*x**2 - 24*x + 2\n",
        "\n",
        "# Find critical points by solving f_prime(x) = 0\n",
        "critical_points = np.roots([4, -12, 2, 4])\n",
        "\n",
        "# Arrays to store minimas and maximas\n",
        "arr_minimas = []\n",
        "arr_maximas = []\n",
        "\n",
        "# Classify critical points using the second derivative test\n",
        "for x in critical_points:\n",
        "    second_derivative_value = f_double_prime(x)\n",
        "    if second_derivative_value > 0:\n",
        "        arr_minimas.append((x, f(x)))\n",
        "    elif second_derivative_value < 0:\n",
        "        arr_maximas.append((x, f(x)))\n",
        "\n",
        "\n",
        "print(f'the array of minimas {arr_minimas} and the array of maximas is {arr_maximas}')\n",
        "\n",
        "\n"
      ],
      "metadata": {
        "id": "0ytRvgytN3st",
        "colab": {
          "base_uri": "https://localhost:8080/"
        },
        "outputId": "92ff73f7-3d26-4c93-b2f7-ec96fcee075f"
      },
      "execution_count": null,
      "outputs": [
        {
          "output_type": "stream",
          "name": "stdout",
          "text": [
            "the array of minimas [(2.672981647854944, -7.5066414569310105), (-0.46961743405803713, -1.1950123551312668)] and the array of maximas is [(0.796635786203095, 2.2016538120622746)]\n"
          ]
        }
      ]
    },
    {
      "cell_type": "code",
      "source": [
        "global_maxima = max(arr_maximas, key=lambda point: point[1])\n",
        "global_minima = min(arr_minimas, key=lambda point: point[1])\n",
        "\n",
        "#  print the global maxima and minima\n",
        "print(f'The global maxima is at {global_maxima}')\n",
        "print(f'The global minima is at {global_minima}')"
      ],
      "metadata": {
        "id": "vaWQwmEHiRe8",
        "colab": {
          "base_uri": "https://localhost:8080/"
        },
        "outputId": "836110fb-40a4-4a2c-9585-8d9d77ee7cdc"
      },
      "execution_count": null,
      "outputs": [
        {
          "output_type": "stream",
          "name": "stdout",
          "text": [
            "The global maxima is at (0.796635786203095, 2.2016538120622746)\n",
            "The global minima is at (2.672981647854944, -7.5066414569310105)\n"
          ]
        }
      ]
    },
    {
      "cell_type": "markdown",
      "source": [
        "# Task 5: Finding the Area under the curve"
      ],
      "metadata": {
        "id": "cvvdb2dh5DzV"
      }
    },
    {
      "cell_type": "code",
      "source": [
        "# Done\n",
        "from scipy.integrate import quad\n",
        "\n",
        "# Define the function to integrate\n",
        "def f(x):\n",
        "    return x**4 - 4*x**3 + x**2 + 4*x\n",
        "\n",
        "# Perform the integration\n",
        "area, _ = quad(f, -2, 4)\n",
        "print(f'Area under the curve between x=-2 and x=4 is {area}')"
      ],
      "metadata": {
        "id": "grpVdMGg5PSR",
        "colab": {
          "base_uri": "https://localhost:8080/"
        },
        "outputId": "3826c186-dda0-453f-a876-8b5c1a37bb80"
      },
      "execution_count": null,
      "outputs": [
        {
          "output_type": "stream",
          "name": "stdout",
          "text": [
            "Area under the curve between x=-2 and x=4 is 19.200000000000003\n"
          ]
        }
      ]
    },
    {
      "cell_type": "markdown",
      "source": [
        "#Finally, What is the global Minima and the Global maxima _ Plot this so that I can see"
      ],
      "metadata": {
        "id": "hMyJ1weqo0ZR"
      }
    },
    {
      "cell_type": "code",
      "source": [
        "\n",
        "\n",
        "import matplotlib.pyplot as plt\n",
        "\n",
        "\n",
        "# What is the global Minima and the Global maxima _ Plot this so that I can see\n",
        "\n",
        "\n",
        "\n",
        "global_maxima = (0.796635786203095, 2.2016538120622746)\n",
        "global_minima = (2.672981647854944, -7.5066414569310105)\n",
        "# plotting the function\n",
        "plt.plot(global_maxima, global_minima, color= 'red')\n",
        "\n",
        "# labeling the axes\n",
        "plt.ylabel('Global Minima')\n",
        "plt.xlabel('Global Maxima')\n",
        "plt.title('Global Minima and Global Maxima')\n",
        "\n",
        "\n",
        "\n",
        "# grid and ledend\n",
        "plt.grid(True)\n",
        "plt.axhline(0, color='black',linewidth=1)\n",
        "plt.axvline(0, color='black',linewidth=1)\n",
        "\n",
        "\n",
        "plt.show()"
      ],
      "metadata": {
        "colab": {
          "base_uri": "https://localhost:8080/",
          "height": 472
        },
        "id": "5QuKDU3rE1i9",
        "outputId": "72f4a7ba-b547-4cf3-c674-45f65d2c2ac8"
      },
      "execution_count": null,
      "outputs": [
        {
          "output_type": "display_data",
          "data": {
            "text/plain": [
              "<Figure size 640x480 with 1 Axes>"
            ],
            "image/png": "[encoded data removed]"
          },
          "metadata": {}
        }
      ]
    },
    {
      "cell_type": "markdown",
      "source": [
        "# Things trhat may help\n",
        "\n",
        "We came up with a functon\n",
        "\n",
        "$$\n",
        "f(x) = 4x^2 + x^-1\n",
        "$$\n",
        "\n",
        "So we create a fucntion in python\n",
        "\n",
        "\n",
        "\n",
        "```\n",
        "def f(x):\n",
        "  #see our code below\n",
        "```\n",
        "\n"
      ],
      "metadata": {
        "id": "W9qLLf9Ei8G7"
      }
    },
    {
      "cell_type": "code",
      "execution_count": null,
      "metadata": {
        "id": "D8SOdxIBc1H9"
      },
      "outputs": [],
      "source": [
        "#This is an Example of a quadratic function\n",
        "def f(x):\n",
        "   return (4 * (x** 2)) + (x ** -1)"
      ]
    },
    {
      "cell_type": "markdown",
      "source": [
        "We manuall calculated the derivative  and got that\n",
        "$$\n",
        "df(x)/dx = 8x^1 + x^-2\n",
        "$$\n",
        "\n",
        "Using the formula above we find points where the derivative is 0\n",
        "\n",
        "the values are:\n",
        "\n",
        "$$\n",
        "x1 = 0.5, x1 = - 0.5,x1 = 0,\n",
        "$$\n",
        "\n",
        "If you replace this in our original formula\n",
        "\n",
        "$$\n",
        "f(0.5) = 4(0.5)^2 + (0.5^-1 = -1.0\n",
        "$$\n",
        "$$\n",
        "f(0) = 4x^2 + x^-1 = No solution\n",
        "$$\n",
        "$$\n",
        "f(-0.5) = 4x^2 + x^-1 = 1\n",
        "$$\n",
        "\n",
        "Meaning our curve is flat at point $$(0.5,1) $$ and at $$ (-0.5,1)$$\n",
        "\n",
        "Proof Pending........\n",
        "\n",
        "Here is how we tried with code and got some errors"
      ],
      "metadata": {
        "id": "YdEAhWv2i1wU"
      }
    },
    {
      "cell_type": "code",
      "source": [
        "\n",
        "\n",
        "x1 = 0.5\n",
        "x2 = -0.5\n",
        "x3 = 0\n",
        "\n",
        "y1 = f(x1)\n",
        "y2 = f(x2)\n",
        "y3 = f(x3)\n",
        "\n",
        "print(y2)\n",
        "(0.5,3)\n"
      ],
      "metadata": {
        "colab": {
          "base_uri": "https://localhost:8080/",
          "height": 331
        },
        "id": "BSsC7fL8fX-7",
        "outputId": "f96b9621-ef3d-42e7-d7e9-b7b102a5363e"
      },
      "execution_count": null,
      "outputs": [
        {
          "output_type": "error",
          "ename": "ZeroDivisionError",
          "evalue": "0.0 cannot be raised to a negative power",
          "traceback": [
            "\u001b[0;31m---------------------------------------------------------------------------\u001b[0m",
            "\u001b[0;31mZeroDivisionError\u001b[0m                         Traceback (most recent call last)",
            "\u001b[0;32m<ipython-input-3-2d333f00018d>\u001b[0m in \u001b[0;36m<cell line: 7>\u001b[0;34m()\u001b[0m\n\u001b[1;32m      5\u001b[0m \u001b[0my1\u001b[0m \u001b[0;34m=\u001b[0m \u001b[0mf\u001b[0m\u001b[0;34m(\u001b[0m\u001b[0mx1\u001b[0m\u001b[0;34m)\u001b[0m\u001b[0;34m\u001b[0m\u001b[0;34m\u001b[0m\u001b[0m\n\u001b[1;32m      6\u001b[0m \u001b[0my2\u001b[0m \u001b[0;34m=\u001b[0m \u001b[0mf\u001b[0m\u001b[0;34m(\u001b[0m\u001b[0mx2\u001b[0m\u001b[0;34m)\u001b[0m\u001b[0;34m\u001b[0m\u001b[0;34m\u001b[0m\u001b[0m\n\u001b[0;32m----> 7\u001b[0;31m \u001b[0my3\u001b[0m \u001b[0;34m=\u001b[0m \u001b[0mf\u001b[0m\u001b[0;34m(\u001b[0m\u001b[0mx3\u001b[0m\u001b[0;34m)\u001b[0m\u001b[0;34m\u001b[0m\u001b[0;34m\u001b[0m\u001b[0m\n\u001b[0m\u001b[1;32m      8\u001b[0m \u001b[0;34m\u001b[0m\u001b[0m\n\u001b[1;32m      9\u001b[0m \u001b[0mprint\u001b[0m\u001b[0;34m(\u001b[0m\u001b[0my2\u001b[0m\u001b[0;34m)\u001b[0m\u001b[0;34m\u001b[0m\u001b[0;34m\u001b[0m\u001b[0m\n",
            "\u001b[0;32m<ipython-input-1-6a316e2d262c>\u001b[0m in \u001b[0;36mf\u001b[0;34m(x)\u001b[0m\n\u001b[1;32m      1\u001b[0m \u001b[0;31m#This is an Example of a quadratic function\u001b[0m\u001b[0;34m\u001b[0m\u001b[0;34m\u001b[0m\u001b[0m\n\u001b[1;32m      2\u001b[0m \u001b[0;32mdef\u001b[0m \u001b[0mf\u001b[0m\u001b[0;34m(\u001b[0m\u001b[0mx\u001b[0m\u001b[0;34m)\u001b[0m\u001b[0;34m:\u001b[0m\u001b[0;34m\u001b[0m\u001b[0;34m\u001b[0m\u001b[0m\n\u001b[0;32m----> 3\u001b[0;31m    \u001b[0;32mreturn\u001b[0m \u001b[0;34m(\u001b[0m\u001b[0;36m4\u001b[0m \u001b[0;34m*\u001b[0m \u001b[0;34m(\u001b[0m\u001b[0mx\u001b[0m\u001b[0;34m**\u001b[0m \u001b[0;36m2\u001b[0m\u001b[0;34m)\u001b[0m\u001b[0;34m)\u001b[0m \u001b[0;34m+\u001b[0m \u001b[0;34m(\u001b[0m\u001b[0mx\u001b[0m \u001b[0;34m**\u001b[0m \u001b[0;34m-\u001b[0m\u001b[0;36m1\u001b[0m\u001b[0;34m)\u001b[0m\u001b[0;34m\u001b[0m\u001b[0;34m\u001b[0m\u001b[0m\n\u001b[0m",
            "\u001b[0;31mZeroDivisionError\u001b[0m: 0.0 cannot be raised to a negative power"
          ]
        }
      ]
    },
    {
      "cell_type": "markdown",
      "source": [
        "# **You can now do the Rest.All the Best ........**"
      ],
      "metadata": {
        "id": "Fk6f0P_Om4VE"
      }
    }
  ]
}